{
 "cells": [
  {
   "cell_type": "code",
   "execution_count": null,
   "metadata": {},
   "outputs": [],
   "source": [
    "import numpy as np \n",
    "from sklearn.tree import DecisionTreeClassifier\n",
    "from sklearn.metrics import accuracy_score,f1_score\n",
    "from sklearn.model_selection import train_test_split\n",
    "from imblearn.over_sampling import SMOTE\n",
    "from src.data.loaddata import load_data\n",
    "import os\n",
    "import matplotlib.pyplot as plt\n",
    "import pickle\n",
    "from src.data.Undersample import equnder_sample,random_under_sample\n",
    "from src.data.eval import evaluate_model\n",
    "# 多个受试者的数据\n",
    "PROJ_TAG = 'c23_wosw_basic'\n",
    "USE_NANSEIZURE_DATA = False\n",
    "SAVE_PROCESSED_DATA = True\n",
    "USE_SAVED_DATA = True\n",
    "\n",
    "OVER_SAMPLING_RATIO = 0.5\n",
    "UNDER_SAMPLING_RATIO = 0.5 # 保留多少比例的数据\n",
    "RAMDOM_UNDER_SAMPLING = True\n",
    "WINDOW_NUM = 2"
   ]
  },
  {
   "cell_type": "code",
   "execution_count": 2,
   "metadata": {},
   "outputs": [
    {
     "name": "stdout",
     "output_type": "stream",
     "text": [
      "Data file not found, loading and saving data for subject 1...\n",
      "正在加载data\\chb01\\chb01_03.edf...\n"
     ]
    },
    {
     "name": "stderr",
     "output_type": "stream",
     "text": [
      "Processing windows: 100%|██████████| 900/900 [00:10<00:00, 86.39it/s]\n"
     ]
    },
    {
     "name": "stdout",
     "output_type": "stream",
     "text": [
      "正在加载data\\chb01\\chb01_04.edf...\n"
     ]
    },
    {
     "name": "stderr",
     "output_type": "stream",
     "text": [
      "Processing windows: 100%|██████████| 900/900 [00:09<00:00, 92.09it/s]\n"
     ]
    },
    {
     "name": "stdout",
     "output_type": "stream",
     "text": [
      "正在加载data\\chb01\\chb01_15.edf...\n"
     ]
    },
    {
     "name": "stderr",
     "output_type": "stream",
     "text": [
      "Processing windows: 100%|██████████| 900/900 [00:11<00:00, 78.41it/s]\n"
     ]
    },
    {
     "name": "stdout",
     "output_type": "stream",
     "text": [
      "正在加载data\\chb01\\chb01_16.edf...\n"
     ]
    },
    {
     "name": "stderr",
     "output_type": "stream",
     "text": [
      "Processing windows: 100%|██████████| 900/900 [00:12<00:00, 72.96it/s]\n"
     ]
    },
    {
     "name": "stdout",
     "output_type": "stream",
     "text": [
      "正在加载data\\chb01\\chb01_18.edf...\n"
     ]
    },
    {
     "name": "stderr",
     "output_type": "stream",
     "text": [
      "Processing windows: 100%|██████████| 900/900 [00:12<00:00, 71.94it/s]\n"
     ]
    },
    {
     "name": "stdout",
     "output_type": "stream",
     "text": [
      "正在加载data\\chb01\\chb01_21.edf...\n"
     ]
    },
    {
     "name": "stderr",
     "output_type": "stream",
     "text": [
      "Processing windows: 100%|██████████| 900/900 [00:12<00:00, 72.42it/s]\n"
     ]
    },
    {
     "name": "stdout",
     "output_type": "stream",
     "text": [
      "Data saved to data/data_subject_1.pkl.\n",
      "Data file not found, loading and saving data for subject 21...\n",
      "正在加载data\\chb21\\chb21_19.edf...\n"
     ]
    },
    {
     "name": "stderr",
     "output_type": "stream",
     "text": [
      "Processing windows: 100%|██████████| 900/900 [00:12<00:00, 73.10it/s]\n"
     ]
    },
    {
     "name": "stdout",
     "output_type": "stream",
     "text": [
      "正在加载data\\chb21\\chb21_21.edf...\n"
     ]
    },
    {
     "name": "stderr",
     "output_type": "stream",
     "text": [
      "Processing windows: 100%|██████████| 900/900 [00:12<00:00, 72.17it/s]\n"
     ]
    },
    {
     "name": "stdout",
     "output_type": "stream",
     "text": [
      "正在加载data\\chb21\\chb21_22.edf...\n"
     ]
    },
    {
     "name": "stderr",
     "output_type": "stream",
     "text": [
      "Processing windows: 100%|██████████| 900/900 [00:12<00:00, 73.55it/s]\n"
     ]
    },
    {
     "name": "stdout",
     "output_type": "stream",
     "text": [
      "Data saved to data/data_subject_21.pkl.\n",
      "Data file not found, loading and saving data for subject 5...\n",
      "正在加载data\\chb05\\chb05_06.edf...\n"
     ]
    },
    {
     "name": "stderr",
     "output_type": "stream",
     "text": [
      "Processing windows: 100%|██████████| 900/900 [00:12<00:00, 74.66it/s]\n"
     ]
    },
    {
     "name": "stdout",
     "output_type": "stream",
     "text": [
      "正在加载data\\chb05\\chb05_13.edf...\n"
     ]
    },
    {
     "name": "stderr",
     "output_type": "stream",
     "text": [
      "Processing windows: 100%|██████████| 900/900 [00:12<00:00, 73.74it/s]\n"
     ]
    },
    {
     "name": "stdout",
     "output_type": "stream",
     "text": [
      "正在加载data\\chb05\\chb05_16.edf...\n"
     ]
    },
    {
     "name": "stderr",
     "output_type": "stream",
     "text": [
      "Processing windows: 100%|██████████| 900/900 [00:11<00:00, 75.21it/s]\n"
     ]
    },
    {
     "name": "stdout",
     "output_type": "stream",
     "text": [
      "正在加载data\\chb05\\chb05_17.edf...\n"
     ]
    },
    {
     "name": "stderr",
     "output_type": "stream",
     "text": [
      "Processing windows: 100%|██████████| 900/900 [00:11<00:00, 75.93it/s]\n"
     ]
    },
    {
     "name": "stdout",
     "output_type": "stream",
     "text": [
      "正在加载data\\chb05\\chb05_22.edf...\n"
     ]
    },
    {
     "name": "stderr",
     "output_type": "stream",
     "text": [
      "Processing windows: 100%|██████████| 900/900 [00:12<00:00, 73.82it/s]\n"
     ]
    },
    {
     "name": "stdout",
     "output_type": "stream",
     "text": [
      "Data saved to data/data_subject_5.pkl.\n",
      "Data file not found, loading and saving data for subject 14...\n",
      "正在加载data\\chb14\\chb14_03.edf...\n"
     ]
    },
    {
     "name": "stderr",
     "output_type": "stream",
     "text": [
      "Processing windows: 100%|██████████| 900/900 [00:12<00:00, 69.84it/s]\n"
     ]
    },
    {
     "name": "stdout",
     "output_type": "stream",
     "text": [
      "正在加载data\\chb14\\chb14_06.edf...\n"
     ]
    },
    {
     "name": "stderr",
     "output_type": "stream",
     "text": [
      "Processing windows: 100%|██████████| 900/900 [00:12<00:00, 72.67it/s]\n"
     ]
    },
    {
     "name": "stdout",
     "output_type": "stream",
     "text": [
      "正在加载data\\chb14\\chb14_11.edf...\n"
     ]
    },
    {
     "name": "stderr",
     "output_type": "stream",
     "text": [
      "Processing windows: 100%|██████████| 900/900 [00:12<00:00, 73.64it/s]\n"
     ]
    },
    {
     "name": "stdout",
     "output_type": "stream",
     "text": [
      "正在加载data\\chb14\\chb14_17.edf...\n"
     ]
    },
    {
     "name": "stderr",
     "output_type": "stream",
     "text": [
      "Processing windows: 100%|██████████| 900/900 [00:12<00:00, 74.97it/s]\n"
     ]
    },
    {
     "name": "stdout",
     "output_type": "stream",
     "text": [
      "正在加载data\\chb14\\chb14_18.edf...\n"
     ]
    },
    {
     "name": "stderr",
     "output_type": "stream",
     "text": [
      "Processing windows: 100%|██████████| 900/900 [00:12<00:00, 70.36it/s]\n"
     ]
    },
    {
     "name": "stdout",
     "output_type": "stream",
     "text": [
      "正在加载data\\chb14\\chb14_27.edf...\n"
     ]
    },
    {
     "name": "stderr",
     "output_type": "stream",
     "text": [
      "Processing windows: 100%|██████████| 900/900 [00:12<00:00, 73.81it/s]\n"
     ]
    },
    {
     "name": "stdout",
     "output_type": "stream",
     "text": [
      "Data saved to data/data_subject_14.pkl.\n",
      "总数据： (18000, 36) (18000,)\n",
      "原始发作数据量： 302\n",
      "原始发作百分比： 0.016777777777777777\n"
     ]
    }
   ],
   "source": [
    "# <读取含发作事件的数据> ----------------------------------------------------------\n",
    "seizure_base_path = \"data\"\n",
    "seizure_file_ids = [1, 21, 5, 14]\n",
    "\n",
    "all_X_ws = []\n",
    "all_y_ws = []\n",
    "\n",
    "for file_id in seizure_file_ids:\n",
    "    if USE_SAVED_DATA:\n",
    "        data_file = f\"{seizure_base_path}/data_subject_{file_id}.pkl\"\n",
    "        if os.path.exists(data_file):\n",
    "            print(f\"Loading data from {data_file} for subject {file_id}...\")\n",
    "            with open(data_file, 'rb') as f:\n",
    "                X, y = pickle.load(f)\n",
    "        else:\n",
    "            print(f\"Data file not found, loading and saving data for subject {file_id}...\")\n",
    "            X, y = load_data(file_id, seizure_base_path)\n",
    "            if SAVE_PROCESSED_DATA:\n",
    "                with open(data_file, 'wb') as f:\n",
    "                    pickle.dump((X, y), f)\n",
    "                print(f\"Data saved to {data_file}.\")\n",
    "    else:\n",
    "        X, y = load_data(file_id, seizure_base_path)\n",
    "    all_X_ws.append(X)\n",
    "    all_y_ws.append(y)\n",
    "# <读取不含发作事件的数据> --------------------------------------------------------\n",
    "nonseizure_base_path = \"data_wos\"\n",
    "nonseizure_file_ids = [1, 2, 3]\n",
    "\n",
    "all_X_wos = []\n",
    "all_y_wos = []\n",
    "\n",
    "for file_id in nonseizure_file_ids:\n",
    "    if USE_NANSEIZURE_DATA:\n",
    "        if USE_SAVED_DATA:\n",
    "            data_file = f\"{nonseizure_base_path}/data_subject_{file_id}.pkl\"\n",
    "            if os.path.exists(data_file):\n",
    "                print(f\"Loading data from {data_file} for subject {file_id}...\")\n",
    "                with open(data_file, 'rb') as f:\n",
    "                    X, y = pickle.load(f)\n",
    "            else:\n",
    "                print(f\"Data file not found, loading and saving data for subject {file_id}...\")\n",
    "                X, y = load_data(file_id, nonseizure_base_path)\n",
    "\n",
    "                if SAVE_PROCESSED_DATA:\n",
    "                    with open(data_file, 'wb') as f:\n",
    "                        pickle.dump((X, y), f)\n",
    "                    print(f\"Data saved to {data_file}.\")\n",
    "        else:\n",
    "            X, y = load_data(file_id, nonseizure_base_path)\n",
    "        all_X_wos.append(X)\n",
    "        all_y_wos.append(y)\n",
    "# <合并数据> -----------------------------------------------\n",
    "if USE_NANSEIZURE_DATA:\n",
    "    all_X = np.vstack(all_X_ws + all_X_wos)\n",
    "    all_y = np.concatenate(all_y_ws + all_y_wos)\n",
    "else:\n",
    "    all_X = np.vstack(all_X_ws)\n",
    "    all_y = np.concatenate(all_y_ws)\n",
    "all_X = all_X.reshape(-1, all_X.shape[-1])\n",
    "all_y = all_y.reshape(-1)\n",
    "print(\"总数据：\", all_X.shape, all_y.shape)\n",
    "print(\"原始发作数据量：\", np.sum(all_y == 1))\n",
    "print(\"原始发作百分比：\", np.sum(all_y == 1) / all_y.shape[0])"
   ]
  },
  {
   "cell_type": "code",
   "execution_count": 3,
   "metadata": {},
   "outputs": [],
   "source": [
    "# <分离二元标签> ----------------------------------\n",
    "def split_data(all_X, all_y):\n",
    "    # 确保 all_y 是 NumPy 数组\n",
    "    all_y = np.array(all_y)\n",
    "    \n",
    "    # 获取标签为 1 和 0 的样本\n",
    "    one_indices = all_y == 1\n",
    "    zero_indices = all_y == 0\n",
    "\n",
    "    one_X = all_X[one_indices]\n",
    "    one_y = all_y[one_indices]\n",
    "    zero_X = all_X[zero_indices]\n",
    "    zero_y = all_y[zero_indices]\n",
    "    \n",
    "    return one_X, one_y, zero_X, zero_y\n",
    "\n",
    "one_X, one_y, zero_X, zero_y = split_data(all_X, all_y)"
   ]
  },
  {
   "cell_type": "code",
   "execution_count": 4,
   "metadata": {},
   "outputs": [
    {
     "name": "stdout",
     "output_type": "stream",
     "text": [
      "欠采样后数据： (8849, 36) (8849,)\n",
      "过采样后数据： (15485, 36) (15485,)\n",
      "过采样后发作数据量： 6636\n",
      "合成数据比例： 0.9544906570223026\n",
      "过采样后发作百分比： 0.42854375201808204\n"
     ]
    }
   ],
   "source": [
    "# <欠采样> ----------------------------------------------\n",
    "under_X, under_y = zero_X, zero_y\n",
    "if UNDER_SAMPLING_RATIO > 0:\n",
    "    if RAMDOM_UNDER_SAMPLING:\n",
    "        under_X, under_y = random_under_sample(zero_X, zero_y, UNDER_SAMPLING_RATIO)\n",
    "    else:\n",
    "        under_X, under_y = equnder_sample(zero_X, zero_y, UNDER_SAMPLING_RATIO)\n",
    "    print(\"欠采样后数据：\", under_X.shape, under_y.shape)\n",
    "# <合并数据> ----------------------------------------------\n",
    "all_X = np.vstack([one_X, under_X])\n",
    "all_y = np.concatenate([one_y, under_y])\n",
    "\n",
    "# <过采样> ----------------------------------------------\n",
    "# 过采样后比例 = 1 / (1 + 1/OVER_SAMPLING_RATIO)\n",
    "if OVER_SAMPLING_RATIO > 0:\n",
    "    smote = SMOTE(sampling_strategy=OVER_SAMPLING_RATIO)\n",
    "    over_X, over_y = smote.fit_resample(all_X, all_y)\n",
    "    print(\"过采样后数据：\", over_X.shape, over_y.shape)\n",
    "    print(\"过采样后发作数据量：\", np.sum(over_y == 1))\n",
    "    print(\"合成数据比例：\", (np.sum(over_y == 1) - np.sum(one_y)) / np.sum(over_y == 1))\n",
    "    print(\"过采样后发作百分比：\", np.sum(over_y == 1) / over_y.shape[0])\n"
   ]
  },
  {
   "cell_type": "code",
   "execution_count": 5,
   "metadata": {},
   "outputs": [
    {
     "name": "stdout",
     "output_type": "stream",
     "text": [
      "Data file not found, loading and saving data for subject 16...\n",
      "正在加载data\\chb16\\chb16_10.edf...\n"
     ]
    },
    {
     "name": "stderr",
     "output_type": "stream",
     "text": [
      "Processing windows: 100%|██████████| 900/900 [00:12<00:00, 72.03it/s]\n"
     ]
    },
    {
     "name": "stdout",
     "output_type": "stream",
     "text": [
      "正在加载data\\chb16\\chb16_11.edf...\n"
     ]
    },
    {
     "name": "stderr",
     "output_type": "stream",
     "text": [
      "Processing windows: 100%|██████████| 900/900 [00:10<00:00, 86.30it/s]\n"
     ]
    },
    {
     "name": "stdout",
     "output_type": "stream",
     "text": [
      "正在加载data\\chb16\\chb16_14.edf...\n"
     ]
    },
    {
     "name": "stderr",
     "output_type": "stream",
     "text": [
      "Processing windows: 100%|██████████| 900/900 [00:10<00:00, 86.22it/s]\n"
     ]
    },
    {
     "name": "stdout",
     "output_type": "stream",
     "text": [
      "正在加载data\\chb16\\chb16_16.edf...\n"
     ]
    },
    {
     "name": "stderr",
     "output_type": "stream",
     "text": [
      "Processing windows: 100%|██████████| 900/900 [00:10<00:00, 87.90it/s]\n"
     ]
    },
    {
     "name": "stdout",
     "output_type": "stream",
     "text": [
      "正在加载data\\chb16\\chb16_17.edf...\n"
     ]
    },
    {
     "name": "stderr",
     "output_type": "stream",
     "text": [
      "Processing windows: 100%|██████████| 900/900 [00:12<00:00, 74.56it/s]\n"
     ]
    },
    {
     "name": "stdout",
     "output_type": "stream",
     "text": [
      "正在加载data\\chb16\\chb16_18.edf...\n"
     ]
    },
    {
     "name": "stderr",
     "output_type": "stream",
     "text": [
      "Processing windows: 100%|██████████| 900/900 [00:13<00:00, 66.91it/s]\n"
     ]
    },
    {
     "name": "stdout",
     "output_type": "stream",
     "text": [
      "Data saved to data/data_subject_16.pkl.\n",
      "Data file not found, loading and saving data for subject 3...\n",
      "正在加载data\\chb03\\chb03_01.edf...\n"
     ]
    },
    {
     "name": "stderr",
     "output_type": "stream",
     "text": [
      "Processing windows: 100%|██████████| 900/900 [00:14<00:00, 62.68it/s]\n"
     ]
    },
    {
     "name": "stdout",
     "output_type": "stream",
     "text": [
      "正在加载data\\chb03\\chb03_02.edf...\n"
     ]
    },
    {
     "name": "stderr",
     "output_type": "stream",
     "text": [
      "Processing windows: 100%|██████████| 900/900 [00:13<00:00, 65.61it/s]\n"
     ]
    },
    {
     "name": "stdout",
     "output_type": "stream",
     "text": [
      "正在加载data\\chb03\\chb03_03.edf...\n"
     ]
    },
    {
     "name": "stderr",
     "output_type": "stream",
     "text": [
      "Processing windows: 100%|██████████| 900/900 [00:13<00:00, 64.84it/s]\n"
     ]
    },
    {
     "name": "stdout",
     "output_type": "stream",
     "text": [
      "正在加载data\\chb03\\chb03_04.edf...\n"
     ]
    },
    {
     "name": "stderr",
     "output_type": "stream",
     "text": [
      "Processing windows: 100%|██████████| 900/900 [00:16<00:00, 55.96it/s]\n"
     ]
    },
    {
     "name": "stdout",
     "output_type": "stream",
     "text": [
      "正在加载data\\chb03\\chb03_34.edf...\n"
     ]
    },
    {
     "name": "stderr",
     "output_type": "stream",
     "text": [
      "Processing windows: 100%|██████████| 900/900 [00:16<00:00, 53.93it/s]\n"
     ]
    },
    {
     "name": "stdout",
     "output_type": "stream",
     "text": [
      "正在加载data\\chb03\\chb03_35.edf...\n"
     ]
    },
    {
     "name": "stderr",
     "output_type": "stream",
     "text": [
      "Processing windows: 100%|██████████| 900/900 [00:13<00:00, 68.60it/s]\n"
     ]
    },
    {
     "name": "stdout",
     "output_type": "stream",
     "text": [
      "正在加载data\\chb03\\chb03_36.edf...\n"
     ]
    },
    {
     "name": "stderr",
     "output_type": "stream",
     "text": [
      "Processing windows: 100%|██████████| 900/900 [00:14<00:00, 60.23it/s]"
     ]
    },
    {
     "name": "stdout",
     "output_type": "stream",
     "text": [
      "Data saved to data/data_subject_3.pkl.\n",
      "测试数据： (11700, 36) (11700,)\n",
      "测试发作数据量： 119\n",
      "测试发作百分比： 0.010170940170940172\n"
     ]
    },
    {
     "name": "stderr",
     "output_type": "stream",
     "text": [
      "\n"
     ]
    }
   ],
   "source": [
    "# <创建测试数据> ----------------------------------------------\n",
    "base_path = \"data\"\n",
    "file_ids = [16,3]\n",
    "test_X = []\n",
    "test_y = []\n",
    "for file_id in file_ids:\n",
    "    if USE_SAVED_DATA:\n",
    "        data_file = f\"{base_path}/data_subject_{file_id}.pkl\"\n",
    "        if os.path.exists(data_file):\n",
    "            print(f\"Loading data from {data_file} for subject {file_id}...\")\n",
    "            with open(data_file, 'rb') as f:\n",
    "                X, y = pickle.load(f)\n",
    "        else:\n",
    "            print(f\"Data file not found, loading and saving data for subject {file_id}...\")\n",
    "            X, y = load_data(file_id, base_path)\n",
    "            if SAVE_PROCESSED_DATA:\n",
    "                with open(data_file, 'wb') as f:\n",
    "                    pickle.dump((X, y), f)\n",
    "                print(f\"Data saved to {data_file}.\")\n",
    "    else:\n",
    "        X, y = load_data(file_id, base_path)\n",
    "    test_X.append(X)\n",
    "    test_y.append(y)\n",
    "test_X = np.vstack(test_X)\n",
    "test_y = np.concatenate(test_y)\n",
    "test_X = test_X.reshape(-1, test_X.shape[-1])\n",
    "test_y = test_y.reshape(-1)\n",
    "print(\"测试数据：\", test_X.shape, test_y.shape)\n",
    "print(\"测试发作数据量：\", np.sum(test_y == 1))\n",
    "print(\"测试发作百分比：\", np.sum(test_y == 1) / test_y.shape[0])"
   ]
  },
  {
   "cell_type": "markdown",
   "metadata": {},
   "source": [
    "### 训练相关"
   ]
  },
  {
   "cell_type": "code",
   "execution_count": 6,
   "metadata": {},
   "outputs": [],
   "source": [
    "import numpy as np\n",
    "import keras\n",
    "from tensorflow.keras.models import Sequential\n",
    "from tensorflow.keras.layers import Conv2D, Flatten, Dense, Dropout\n",
    "from sklearn.metrics import f1_score, confusion_matrix, accuracy_score"
   ]
  },
  {
   "cell_type": "code",
   "execution_count": 7,
   "metadata": {},
   "outputs": [
    {
     "data": {
      "text/plain": [
       "<Figure size 640x480 with 0 Axes>"
      ]
     },
     "metadata": {},
     "output_type": "display_data"
    },
    {
     "data": {
      "image/png": "[encoded data removed]",
      "text/plain": [
       "<Figure size 480x480 with 1 Axes>"
      ]
     },
     "metadata": {},
     "output_type": "display_data"
    },
    {
     "name": "stdout",
     "output_type": "stream",
     "text": [
      "F1 分数: 0.7572815533980582\n"
     ]
    },
    {
     "data": {
      "text/plain": [
       "<Figure size 640x480 with 0 Axes>"
      ]
     },
     "metadata": {},
     "output_type": "display_data"
    },
    {
     "data": {
      "image/png": "[encoded data removed]",
      "text/plain": [
       "<Figure size 480x480 with 1 Axes>"
      ]
     },
     "metadata": {},
     "output_type": "display_data"
    },
    {
     "name": "stdout",
     "output_type": "stream",
     "text": [
      "F1 分数: 0.1731958762886598\n"
     ]
    }
   ],
   "source": [
    "train_X, val_X, train_y, val_y = train_test_split(all_X, all_y, test_size=0.2, random_state=42, stratify=all_y)\n",
    "# 训练随机森林分类器\n",
    "from sklearn.ensemble import RandomForestClassifier\n",
    "clf = RandomForestClassifier(random_state=0)\n",
    "clf.fit(train_X, train_y)\n",
    "# 预测\n",
    "# 输出y的正例数量\n",
    "# 统计1的数量\n",
    "val_y_pred = clf.predict(val_X)\n",
    "evaluate_model(val_y, val_y_pred)\n",
    "\n",
    "test_y_pred = clf.predict(test_X)\n",
    "evaluate_model(test_y, test_y_pred)\n"
   ]
  },
  {
   "cell_type": "markdown",
   "metadata": {
    "vscode": {
     "languageId": "html"
    }
   },
   "source": [
    "from sklearn.svm import SVC\n",
    "from sklearn.model_selection import train_test_split\n",
    "# min-max标准化\n",
    "from sklearn.preprocessing import MinMaxScaler\n",
    "scaler = MinMaxScaler()\n",
    "all_X = scaler.fit_transform(all_X)\n",
    "test_X = scaler.transform(test_X)\n",
    "\n",
    "# 切分数据\n",
    "train_X, val_X, train_y, val_y = train_test_split(all_X, all_y, test_size=0.2, random_state=42, stratify=all_y)\n",
    "\n",
    "# 训练SVM分类器\n",
    "clf = SVC(random_state=0)  # 你可以根据需要调整其他参数，如kernel等\n",
    "clf.fit(train_X, train_y)\n",
    "\n",
    "# 预测\n",
    "val_y_pred = clf.predict(val_X)\n",
    "evaluate_model(val_y, val_y_pred)\n",
    "\n",
    "test_y_pred = clf.predict(test_X)\n",
    "evaluate_model(test_y, test_y_pred)\n"
   ]
  },
  {
   "cell_type": "code",
   "execution_count": 10,
   "metadata": {},
   "outputs": [
    {
     "name": "stdout",
     "output_type": "stream",
     "text": [
      "训练集： (7320, 2, 18, 1) (7320,)\n",
      "验证集： (1831, 2, 18, 1) (1831,)\n",
      "测试集： (11700, 2, 18, 1) (11700,)\n",
      "Model: \"sequential_2\"\n",
      "_________________________________________________________________\n",
      " Layer (type)                Output Shape              Param #   \n",
      "=================================================================\n",
      " conv2d_2 (Conv2D)           (None, 2, 17, 32)         96        \n",
      "                                                                 \n",
      " flatten_2 (Flatten)         (None, 1088)              0         \n",
      "                                                                 \n",
      " dense_4 (Dense)             (None, 64)                69696     \n",
      "                                                                 \n",
      " dense_5 (Dense)             (None, 1)                 65        \n",
      "                                                                 \n",
      "=================================================================\n",
      "Total params: 69,857\n",
      "Trainable params: 69,857\n",
      "Non-trainable params: 0\n",
      "_________________________________________________________________\n",
      "Epoch 1/10\n",
      "915/915 [==============================] - 22s 23ms/step - loss: 0.0315 - accuracy: 0.9693 - val_loss: 0.0255 - val_accuracy: 0.9792\n",
      "Epoch 2/10\n",
      "915/915 [==============================] - 23s 25ms/step - loss: 0.0249 - accuracy: 0.9777 - val_loss: 0.0231 - val_accuracy: 0.9814\n",
      "Epoch 3/10\n",
      "915/915 [==============================] - 6s 6ms/step - loss: 0.0225 - accuracy: 0.9792 - val_loss: 0.0289 - val_accuracy: 0.9667\n",
      "Epoch 4/10\n",
      "915/915 [==============================] - 6s 7ms/step - loss: 0.0211 - accuracy: 0.9811 - val_loss: 0.0215 - val_accuracy: 0.9831\n",
      "Epoch 5/10\n",
      "915/915 [==============================] - 10s 11ms/step - loss: 0.0209 - accuracy: 0.9807 - val_loss: 0.0263 - val_accuracy: 0.9798\n",
      "Epoch 6/10\n",
      "915/915 [==============================] - 17s 19ms/step - loss: 0.0202 - accuracy: 0.9825 - val_loss: 0.0224 - val_accuracy: 0.9836\n",
      "Epoch 7/10\n",
      "915/915 [==============================] - 8s 9ms/step - loss: 0.0193 - accuracy: 0.9831 - val_loss: 0.0198 - val_accuracy: 0.9831\n",
      "Epoch 8/10\n",
      "915/915 [==============================] - 10s 10ms/step - loss: 0.0183 - accuracy: 0.9843 - val_loss: 0.0191 - val_accuracy: 0.9847\n",
      "Epoch 9/10\n",
      "915/915 [==============================] - 6s 6ms/step - loss: 0.0186 - accuracy: 0.9835 - val_loss: 0.0193 - val_accuracy: 0.9836\n",
      "Epoch 10/10\n",
      "915/915 [==============================] - 6s 6ms/step - loss: 0.0179 - accuracy: 0.9847 - val_loss: 0.0231 - val_accuracy: 0.9836\n",
      "58/58 [==============================] - 0s 2ms/step\n"
     ]
    },
    {
     "data": {
      "text/plain": [
       "<Figure size 640x480 with 0 Axes>"
      ]
     },
     "metadata": {},
     "output_type": "display_data"
    },
    {
     "data": {
      "image/png": "[encoded data removed]",
      "text/plain": [
       "<Figure size 480x480 with 1 Axes>"
      ]
     },
     "metadata": {},
     "output_type": "display_data"
    },
    {
     "name": "stdout",
     "output_type": "stream",
     "text": [
      "F1 分数: 0.673913043478261\n",
      "366/366 [==============================] - 1s 3ms/step\n"
     ]
    },
    {
     "data": {
      "text/plain": [
       "<Figure size 640x480 with 0 Axes>"
      ]
     },
     "metadata": {},
     "output_type": "display_data"
    },
    {
     "data": {
      "image/png": "[encoded data removed]",
      "text/plain": [
       "<Figure size 480x480 with 1 Axes>"
      ]
     },
     "metadata": {},
     "output_type": "display_data"
    },
    {
     "name": "stdout",
     "output_type": "stream",
     "text": [
      "F1 分数: 0.2206896551724138\n"
     ]
    }
   ],
   "source": [
    "# 分割处理后的数据集\n",
    "all_X_2d = all_X.reshape(all_X.shape[0], WINDOW_NUM, -1)\n",
    "test_X_2d = test_X.reshape(test_X.shape[0], WINDOW_NUM, -1)\n",
    "train_X_2d, val_X_2d, train_y, val_y = train_test_split(\n",
    "    all_X_2d, all_y, test_size=0.2, random_state=42, stratify=all_y)\n",
    "\n",
    "# max-min normalization\n",
    "# @TODO: 这里的归一化方式可能不太对，需要根据实际情况调整(或统一最大最小值)\n",
    "train_X_2d = (train_X_2d - np.min(train_X_2d)) / (np.max(train_X_2d) - np.min(train_X_2d))\n",
    "val_X_2d = (val_X_2d - np.min(val_X_2d)) / (np.max(val_X_2d) - np.min(val_X_2d))\n",
    "test_X_2d = (test_X_2d - np.min(test_X_2d)) / (np.max(test_X_2d) - np.min(test_X_2d))\n",
    "\n",
    "# 增加通道维度\n",
    "train_X_2d = train_X_2d[:, :, :, np.newaxis]\n",
    "val_X_2d = val_X_2d[:, :, :, np.newaxis]\n",
    "test_X_2d = test_X_2d[:, :, :, np.newaxis]\n",
    "print(\"训练集：\", train_X_2d.shape, train_y.shape)\n",
    "print(\"验证集：\", val_X_2d.shape, val_y.shape)\n",
    "print(\"测试集：\", test_X_2d.shape, test_y.shape)\n",
    "\n",
    "# 创建卷积神经网络模型\n",
    "model = Sequential()\n",
    "model.add(Conv2D(filters=32, kernel_size=(1, WINDOW_NUM), activation='relu', input_shape=(WINDOW_NUM, 18, 1)))\n",
    "model.add(Flatten())\n",
    "model.add(Dense(64, activation='relu'))\n",
    "model.add(Dense(1, activation='sigmoid'))\n",
    "model.summary()\n",
    "\n",
    "# 编译模型\n",
    "# model.compile(optimizer='adam', loss='mse', metrics=['accuracy'])\n",
    "model.compile(optimizer='adam', loss=keras.losses.BinaryFocalCrossentropy(gamma=2.0, from_logits=False), metrics=['accuracy'])\n",
    "#model.compile(optimizer='adam', loss='binary_crossentropy', metrics=['accuracy'])\n",
    "# 训练模型\n",
    "model.fit(train_X_2d, train_y, epochs=10, batch_size=8, validation_data=(val_X_2d, val_y))\n",
    "\n",
    "# 对 val_X 进行预测\n",
    "val_y_pred = model.predict(val_X_2d)\n",
    "val_y_pred = (val_y_pred > 0.5).astype(int).reshape(-1)\n",
    "evaluate_model(val_y, val_y_pred)\n",
    "\n",
    "# 对 test_X 进行预测\n",
    "test_y_pred = model.predict(test_X_2d)\n",
    "test_y_pred = (test_y_pred > 0.5).astype(int).reshape(-1)\n",
    "evaluate_model(test_y, test_y_pred)\n"
   ]
  }
 ],
 "metadata": {
  "kernelspec": {
   "display_name": "py310no1",
   "language": "python",
   "name": "py310no1"
  },
  "language_info": {
   "codemirror_mode": {
    "name": "ipython",
    "version": 3
   },
   "file_extension": ".py",
   "mimetype": "text/x-python",
   "name": "python",
   "nbconvert_exporter": "python",
   "pygments_lexer": "ipython3",
   "version": "3.10.13"
  }
 },
 "nbformat": 4,
 "nbformat_minor": 2
}
